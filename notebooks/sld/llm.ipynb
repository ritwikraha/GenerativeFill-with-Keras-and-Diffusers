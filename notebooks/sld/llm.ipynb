{
  "nbformat": 4,
  "nbformat_minor": 0,
  "metadata": {
    "colab": {
      "provenance": [],
      "gpuType": "T4",
      "authorship_tag": "ABX9TyNTq1+XsLNFYjzZnk+mWWaB",
      "include_colab_link": true
    },
    "kernelspec": {
      "name": "python3",
      "display_name": "Python 3"
    },
    "language_info": {
      "name": "python"
    },
    "accelerator": "GPU"
  },
  "cells": [
    {
      "cell_type": "markdown",
      "metadata": {
        "id": "view-in-github",
        "colab_type": "text"
      },
      "source": [
        "<a href=\"https://colab.research.google.com/github/ritwikraha/Open-Generative-Fill/blob/SLD/notebooks/sld/llm.ipynb\" target=\"_parent\"><img src=\"https://colab.research.google.com/assets/colab-badge.svg\" alt=\"Open In Colab\"/></a>"
      ]
    },
    {
      "cell_type": "code",
      "source": [
        "import ast\n",
        "import torch\n",
        "from transformers import (\n",
        "    AutoModelForCausalLM,\n",
        "    AutoTokenizer\n",
        ")"
      ],
      "metadata": {
        "id": "T1brPCmbUlEm"
      },
      "execution_count": 37,
      "outputs": []
    },
    {
      "cell_type": "code",
      "source": [
        "system_content = \"\"\"Excellent Parser\n",
        "\n",
        "Objective: Analyze scene descriptions to identify objects and their attributes.\n",
        "\n",
        "Process Steps\n",
        "1. Read the user prompt (scene description).\n",
        "2. Identify all objects mentioned with quantities.\n",
        "3. Extract attributes of each object (color, size, material, etc.).\n",
        "4. If the description mentions objects that shouldn't be in the image, take note at the negation part.\n",
        "5. Explain your understanding (reasoning) and then format your result (answer / negation) as shown in the examples.\n",
        "6. Importance of Extracting Attributes: Attributes provide specific details about the objects. This helps differentiate between similar objects and gives a clearer understanding of the scene.\n",
        "\n",
        "Follow the steps closely and accurately identify objects based on the given prompt. Ensure adherence to the output format.\n",
        "\"\"\"\n",
        "\n",
        "use_contents = [\n",
        "\"User prompt: A brown horse is beneath a black dog. Another orange cat is beneath a brown horse.\",\n",
        "\"User prompt: There's a white car and a yellow airplane in a garage. They're in front of two dogs and behind a cat. The car is small. Another yellow car is outside the garage.\",\n",
        "\"User prompt: A car and a dog are on top of an airplane and below a red chair. There's another dog sitting on the mentioned chair.\",\n",
        "\"User prompt: An oil painting at the beach of a blue bicycle to the left of a bench and to the right of a palm tree with five seagulls in the sky.\",\n",
        "\"User prompt: An animated-style image of a scene without backpacks.\",\n",
        "\"User Prompt: Make the dog a sleeping dog and remove all shadows in an image of a grassland.\",\n",
        "]\n",
        "\n",
        "assistant_contents = [\n",
        "\"\"\"\n",
        "Reasoning: The description talks about three objects: a brown horse, a black dog, and an orange cat. We report the color attribute thoroughly. No specified negation terms. No background is mentioned and thus fill in the default one.\n",
        "Objects: [('horse', ['brown']), ('dog', ['black']), ('cat', ['orange'])]\n",
        "Background: A realistic image\n",
        "Negation:\n",
        "\"\"\",\n",
        "\"\"\"\n",
        "Reasoning: The scene has two cars, one airplane, two dogs, and a cat. The car and airplane have colors. The first car also has a size. No specified negation terms. The background is a garage.\n",
        "Objects: [('car', ['white and small', 'yellow']), ('airplane', ['yellow']), ('dog', [None, None]), ('cat', [None])]\n",
        "Background: A realistic image in a garage\n",
        "Negation:\n",
        "\"\"\",\n",
        "\"\"\"\n",
        "Reasoning: Four objects are described: one car, airplane, two dog, and a chair. The chair is red color. No specified negation terms. No background is mentioned and thus fill in the default one.\n",
        "Objects: [('car', [None]), ('airplane', [None]), ('dog', [None, None]), ('chair', ['red'])]\n",
        "Background: A realistic image\n",
        "Negation:\n",
        "\"\"\",\n",
        "\"\"\"\n",
        "Reasoning: Here, there are five seagulls, one blue bicycle, one palm tree, and one bench. No specified negation terms. The background is an oil painting at the beach.\n",
        "Objects: [('bicycle', ['blue']), ('palm tree', [None]), ('seagull', [None, None, None, None, None]), ('bench', [None])]\n",
        "Background: An oil painting at the beach\n",
        "Negation:\n",
        "\"\"\",\n",
        "\"\"\"\n",
        "Reasoning: The description clearly states no backpacks, so this must be acknowledged. The user provides the negative prompt of backpacks. The background is an animated-style image.\n",
        "Objects: [('backpacks', [None])]\n",
        "Background: An animated-style image\n",
        "Negation: backpacks\n",
        "\"\"\",\n",
        "\"\"\"\n",
        "Reasoning: The user prompt specifies a sleeping dog on the image and a shadow to be removed. The background is a realistic image of a grassland.\n",
        "Objects: [('dog', ['sleeping']), ['shadow', [None]]]\n",
        "Background: A realistic image of a grassland\n",
        "Negation: shadows\n",
        "\"\"\",\n",
        "]"
      ],
      "metadata": {
        "id": "JmpnKaeFdkTP"
      },
      "execution_count": 38,
      "outputs": []
    },
    {
      "cell_type": "code",
      "source": [
        "model_id=\"Qwen/Qwen1.5-0.5B-Chat\"\n",
        "device = \"cuda\" if torch.cuda.is_available() else \"cpu\"\n",
        "\n",
        "prompt=\"\"\"An image of a rustic village with a cat to the left and a dog\\\n",
        "to the right.\"\"\""
      ],
      "metadata": {
        "id": "EqC8rQaDg0Bu"
      },
      "execution_count": 44,
      "outputs": []
    },
    {
      "cell_type": "code",
      "source": [
        "messages = [\n",
        "    {\"role\":\"system\", \"content\": system_content},\n",
        "]\n",
        "\n",
        "for user_content, assistant_content in zip(use_contents, assistant_contents):\n",
        "    messages.append({\"role\":\"user\", \"content\": user_content.strip()})\n",
        "    messages.append({\"role\":\"assistant\", \"content\": assistant_content.strip()})\n",
        "\n",
        "messages.append({\"role\":\"user\", \"content\":f\"User prompt: {prompt}\"})"
      ],
      "metadata": {
        "id": "T9S7IX-3gLaW"
      },
      "execution_count": 45,
      "outputs": []
    },
    {
      "cell_type": "code",
      "execution_count": 46,
      "metadata": {
        "colab": {
          "base_uri": "https://localhost:8080/"
        },
        "id": "mX4p0xMzUVjd",
        "outputId": "9e7fb095-616a-4905-abfd-a084a185c052"
      },
      "outputs": [
        {
          "output_type": "stream",
          "name": "stderr",
          "text": [
            "Special tokens have been added in the vocabulary, make sure the associated word embeddings are fine-tuned or trained.\n"
          ]
        }
      ],
      "source": [
        "language_model = AutoModelForCausalLM.from_pretrained(\n",
        "    model_id,\n",
        ").to(device)\n",
        "tokenizer = AutoTokenizer.from_pretrained(model_id)"
      ]
    },
    {
      "cell_type": "code",
      "source": [
        "model_inputs = tokenizer.apply_chat_template(\n",
        "    messages,\n",
        "    tokenize=True,\n",
        "    add_generation_prompt=True,\n",
        "    return_tensors=\"pt\",\n",
        ")\n",
        "\n",
        "print(tokenizer.decode(model_inputs[0]))"
      ],
      "metadata": {
        "colab": {
          "base_uri": "https://localhost:8080/"
        },
        "id": "aIe_VZgzaP3y",
        "outputId": "bde38f92-346f-4d24-a89e-4c87eafcc1f9"
      },
      "execution_count": 47,
      "outputs": [
        {
          "output_type": "stream",
          "name": "stdout",
          "text": [
            "<|im_start|>system\n",
            "Excellent Parser\n",
            "\n",
            "Objective: Analyze scene descriptions to identify objects and their attributes.\n",
            "\n",
            "Process Steps\n",
            "1. Read the user prompt (scene description).\n",
            "2. Identify all objects mentioned with quantities.\n",
            "3. Extract attributes of each object (color, size, material, etc.).\n",
            "4. If the description mentions objects that shouldn't be in the image, take note at the negation part.\n",
            "5. Explain your understanding (reasoning) and then format your result (answer / negation) as shown in the examples.\n",
            "6. Importance of Extracting Attributes: Attributes provide specific details about the objects. This helps differentiate between similar objects and gives a clearer understanding of the scene.\n",
            "\n",
            "Follow the steps closely and accurately identify objects based on the given prompt. Ensure adherence to the output format.\n",
            "<|im_end|>\n",
            "<|im_start|>user\n",
            "User prompt: A brown horse is beneath a black dog. Another orange cat is beneath a brown horse.<|im_end|>\n",
            "<|im_start|>assistant\n",
            "Reasoning: The description talks about three objects: a brown horse, a black dog, and an orange cat. We report the color attribute thoroughly. No specified negation terms. No background is mentioned and thus fill in the default one.\n",
            "Objects: [('horse', ['brown']), ('dog', ['black']), ('cat', ['orange'])]\n",
            "Background: A realistic image\n",
            "Negation:<|im_end|>\n",
            "<|im_start|>user\n",
            "User prompt: There's a white car and a yellow airplane in a garage. They're in front of two dogs and behind a cat. The car is small. Another yellow car is outside the garage.<|im_end|>\n",
            "<|im_start|>assistant\n",
            "Reasoning: The scene has two cars, one airplane, two dogs, and a cat. The car and airplane have colors. The first car also has a size. No specified negation terms. The background is a garage.\n",
            "Objects: [('car', ['white and small', 'yellow']), ('airplane', ['yellow']), ('dog', [None, None]), ('cat', [None])]\n",
            "Background: A realistic image in a garage\n",
            "Negation:<|im_end|>\n",
            "<|im_start|>user\n",
            "User prompt: A car and a dog are on top of an airplane and below a red chair. There's another dog sitting on the mentioned chair.<|im_end|>\n",
            "<|im_start|>assistant\n",
            "Reasoning: Four objects are described: one car, airplane, two dog, and a chair. The chair is red color. No specified negation terms. No background is mentioned and thus fill in the default one.\n",
            "Objects: [('car', [None]), ('airplane', [None]), ('dog', [None, None]), ('chair', ['red'])]\n",
            "Background: A realistic image\n",
            "Negation:<|im_end|>\n",
            "<|im_start|>user\n",
            "User prompt: An oil painting at the beach of a blue bicycle to the left of a bench and to the right of a palm tree with five seagulls in the sky.<|im_end|>\n",
            "<|im_start|>assistant\n",
            "Reasoning: Here, there are five seagulls, one blue bicycle, one palm tree, and one bench. No specified negation terms. The background is an oil painting at the beach.\n",
            "Objects: [('bicycle', ['blue']), ('palm tree', [None]), ('seagull', [None, None, None, None, None]), ('bench', [None])]\n",
            "Background: An oil painting at the beach\n",
            "Negation:<|im_end|>\n",
            "<|im_start|>user\n",
            "User prompt: An animated-style image of a scene without backpacks.<|im_end|>\n",
            "<|im_start|>assistant\n",
            "Reasoning: The description clearly states no backpacks, so this must be acknowledged. The user provides the negative prompt of backpacks. The background is an animated-style image.\n",
            "Objects: [('backpacks', [None])]\n",
            "Background: An animated-style image\n",
            "Negation: backpacks<|im_end|>\n",
            "<|im_start|>user\n",
            "User Prompt: Make the dog a sleeping dog and remove all shadows in an image of a grassland.<|im_end|>\n",
            "<|im_start|>assistant\n",
            "Reasoning: The user prompt specifies a sleeping dog on the image and a shadow to be removed. The background is a realistic image of a grassland.                                                                                                                              \n",
            "Objects: [('dog', ['sleeping']), ['shadow', [None]]]                                                                                                      \n",
            "Background: A realistic image of a grassland                                                                                                              \n",
            "Negation: shadows<|im_end|>\n",
            "<|im_start|>user\n",
            "User prompt: An image of a rustic village with a cat to the left and a dogto the right.<|im_end|>\n",
            "<|im_start|>assistant\n",
            "\n"
          ]
        }
      ]
    },
    {
      "cell_type": "code",
      "source": [
        "with torch.no_grad():\n",
        "    generated_ids = language_model.generate(\n",
        "        model_inputs.to(device),\n",
        "        max_new_tokens=512,\n",
        "        temperature=0.0,\n",
        "        do_sample=False,\n",
        "    )"
      ],
      "metadata": {
        "colab": {
          "base_uri": "https://localhost:8080/"
        },
        "id": "2QTx3XSmbF9Q",
        "outputId": "739ef4a1-e5d5-49e1-81c2-67b8d66b701a"
      },
      "execution_count": 48,
      "outputs": [
        {
          "output_type": "stream",
          "name": "stderr",
          "text": [
            "/usr/local/lib/python3.10/dist-packages/transformers/generation/configuration_utils.py:410: UserWarning: `do_sample` is set to `False`. However, `temperature` is set to `0.0` -- this flag is only used in sample-based generation modes. You should set `do_sample=True` or unset `temperature`.\n",
            "  warnings.warn(\n",
            "/usr/local/lib/python3.10/dist-packages/transformers/generation/configuration_utils.py:415: UserWarning: `do_sample` is set to `False`. However, `top_p` is set to `0.8` -- this flag is only used in sample-based generation modes. You should set `do_sample=True` or unset `top_p`.\n",
            "  warnings.warn(\n"
          ]
        }
      ]
    },
    {
      "cell_type": "code",
      "source": [
        "generated_ids = [\n",
        "    output_ids[len(input_ids) :]\n",
        "    for input_ids, output_ids in zip(model_inputs, generated_ids)\n",
        "]\n",
        "\n",
        "output_generation = tokenizer.batch_decode(generated_ids, skip_special_tokens=True)[0]"
      ],
      "metadata": {
        "id": "j26WmzuSjXUA"
      },
      "execution_count": 59,
      "outputs": []
    },
    {
      "cell_type": "code",
      "source": [
        "print(output_generation)"
      ],
      "metadata": {
        "colab": {
          "base_uri": "https://localhost:8080/"
        },
        "id": "IZGj_VfSjcm4",
        "outputId": "be15642f-2882-44d5-a303-cb30cc3dd311"
      },
      "execution_count": 61,
      "outputs": [
        {
          "output_type": "stream",
          "name": "stdout",
          "text": [
            "Reasoning: The user provided a description of a rural village with a cat to the left and a dog to the right. The image does not contain any shadows. The background is a realistic image of a rural village.\n",
            "Objects: [('cat', ['left']), ('dog', ['right'])]                                                                                                      \n",
            "Background: A realistic image of a rural village\n",
            "Negation: shadows\n"
          ]
        }
      ]
    },
    {
      "cell_type": "code",
      "source": [
        "# # Extracting key objects\n",
        "key_objects_part = output_generation.split(\"Objects:\")[1]\n",
        "start_index = key_objects_part.index(\"[\")\n",
        "end_index = key_objects_part.rindex(\"]\") + 1\n",
        "objects_str = key_objects_part[start_index:end_index]\n",
        "\n",
        "print(objects_str)"
      ],
      "metadata": {
        "colab": {
          "base_uri": "https://localhost:8080/"
        },
        "id": "QfGYsMiYbpMI",
        "outputId": "e9afa7e8-ecaf-4e0a-de06-87b5e9c33a3e"
      },
      "execution_count": 62,
      "outputs": [
        {
          "output_type": "stream",
          "name": "stdout",
          "text": [
            "[('cat', ['left']), ('dog', ['right'])]\n"
          ]
        }
      ]
    },
    {
      "cell_type": "code",
      "source": [
        "# Converting string to list\n",
        "parsed_objects = ast.literal_eval(objects_str)\n",
        "\n",
        "parsed_objects"
      ],
      "metadata": {
        "colab": {
          "base_uri": "https://localhost:8080/"
        },
        "id": "l3I225lbjFa9",
        "outputId": "9d222f08-43ee-43cb-a16b-f01e48af7e16"
      },
      "execution_count": 63,
      "outputs": [
        {
          "output_type": "execute_result",
          "data": {
            "text/plain": [
              "[('cat', ['left']), ('dog', ['right'])]"
            ]
          },
          "metadata": {},
          "execution_count": 63
        }
      ]
    },
    {
      "cell_type": "code",
      "source": [
        "# Extracting additional negative prompt\n",
        "bg_prompt = output_generation.split(\"Background:\")[1].split(\"\\n\")[0].strip()\n",
        "negative_prompt = output_generation.split(\"Negation:\")[1].strip()\n",
        "\n",
        "bg_prompt, negative_prompt"
      ],
      "metadata": {
        "colab": {
          "base_uri": "https://localhost:8080/"
        },
        "id": "07HL4bL7jLFb",
        "outputId": "c454f978-ca13-4615-c3f9-2969a29eb47d"
      },
      "execution_count": 65,
      "outputs": [
        {
          "output_type": "execute_result",
          "data": {
            "text/plain": [
              "('A realistic image of a rural village', 'shadows')"
            ]
          },
          "metadata": {},
          "execution_count": 65
        }
      ]
    },
    {
      "cell_type": "code",
      "source": [
        "parsed_result = {\n",
        "    \"objects\": parsed_objects,\n",
        "    \"bg_prompt\": bg_prompt,\n",
        "    \"neg_prompt\": negative_prompt,\n",
        "}"
      ],
      "metadata": {
        "id": "NINE3YCsaAdX"
      },
      "execution_count": 66,
      "outputs": []
    },
    {
      "cell_type": "code",
      "source": [
        "parsed_result"
      ],
      "metadata": {
        "colab": {
          "base_uri": "https://localhost:8080/"
        },
        "id": "lLv4Nryojnb5",
        "outputId": "92e93dfd-018f-4ee1-daca-25d482e6a10f"
      },
      "execution_count": 67,
      "outputs": [
        {
          "output_type": "execute_result",
          "data": {
            "text/plain": [
              "{'objects': [('cat', ['left']), ('dog', ['right'])],\n",
              " 'bg_prompt': 'A realistic image of a rural village',\n",
              " 'neg_prompt': 'shadows'}"
            ]
          },
          "metadata": {},
          "execution_count": 67
        }
      ]
    }
  ]
}